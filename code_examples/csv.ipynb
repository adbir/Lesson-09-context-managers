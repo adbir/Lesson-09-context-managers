{
 "cells": [
  {
   "cell_type": "markdown",
   "metadata": {
    "toc": true
   },
   "source": [
    "<h1>Reading and writing csv files<span class=\"tocSkip\"></span></h1>\n",
    "<div class=\"toc\"><ul class=\"toc-item\"><li><span><a href=\"#csv.reader()\" data-toc-modified-id=\"csv.reader()-1\"><span class=\"toc-item-num\">1&nbsp;&nbsp;</span>csv.reader()</a></span></li><li><span><a href=\"#csv.DictReader()\" data-toc-modified-id=\"csv.DictReader()-2\"><span class=\"toc-item-num\">2&nbsp;&nbsp;</span>csv.DictReader()</a></span></li><li><span><a href=\"#csv.writer()\" data-toc-modified-id=\"csv.writer()-3\"><span class=\"toc-item-num\">3&nbsp;&nbsp;</span>csv.writer()</a></span></li><li><span><a href=\"#csv.DictWriter()\" data-toc-modified-id=\"csv.DictWriter()-4\"><span class=\"toc-item-num\">4&nbsp;&nbsp;</span>csv.DictWriter()</a></span></li><li><span><a href=\"#Pandas\" data-toc-modified-id=\"Pandas-5\"><span class=\"toc-item-num\">5&nbsp;&nbsp;</span>Pandas</a></span><ul class=\"toc-item\"><li><span><a href=\"#read_csv()\" data-toc-modified-id=\"read_csv()-5.1\"><span class=\"toc-item-num\">5.1&nbsp;&nbsp;</span>read_csv()</a></span></li></ul></li><li><span><a href=\"#10-minutes-exercise\" data-toc-modified-id=\"10-minutes-exercise-6\"><span class=\"toc-item-num\">6&nbsp;&nbsp;</span>10 minutes exercise</a></span></li></ul></div>"
   ]
  },
  {
   "cell_type": "markdown",
   "metadata": {},
   "source": [
    "https://realpython.com/python-csv/  \n",
    "https://realpython.com/working-with-large-excel-files-in-pandas/  "
   ]
  },
  {
   "cell_type": "markdown",
   "metadata": {},
   "source": [
    "## csv.reader()"
   ]
  },
  {
   "cell_type": "code",
   "execution_count": 1,
   "metadata": {},
   "outputs": [],
   "source": [
    "import csv"
   ]
  },
  {
   "cell_type": "code",
   "execution_count": 2,
   "metadata": {},
   "outputs": [
    {
     "name": "stdout",
     "output_type": "stream",
     "text": [
      "['Name', 'Hire Date', 'Salary', 'Sick Days remaining']\n",
      "['Graham Chapman', '03/15/14', '50000.00', '10']\n",
      "['John Cleese', '06/01/15', '65000.00', '8']\n",
      "['Eric Idle', '05/12/14', '45000.00', '10']\n",
      "['Terry Jones', '11/01/13', '70000.00', '3']\n",
      "['Terry Gilliam', '08/12/14', '48000.00', '7']\n",
      "['Michael Palin', '05/23/13', '66000.00', '8']\n"
     ]
    }
   ],
   "source": [
    "with open('testfiles/hrdata.csv', 'r') as f:\n",
    "    csv_reader = csv.reader(f, delimiter=',')\n",
    "    for row in csv_reader:\n",
    "        print(row)\n"
   ]
  },
  {
   "cell_type": "markdown",
   "metadata": {},
   "source": [
    "## csv.DictReader()"
   ]
  },
  {
   "cell_type": "code",
   "execution_count": 10,
   "metadata": {},
   "outputs": [
    {
     "name": "stdout",
     "output_type": "stream",
     "text": [
      "Graham Chapman 03/15/14 50000.00 10\n",
      "John Cleese 06/01/15 65000.00 8\n",
      "Eric Idle 05/12/14 45000.00 10\n",
      "Terry Jones 11/01/13 70000.00 3\n",
      "Terry Gilliam 08/12/14 48000.00 7\n",
      "Michael Palin 05/23/13 66000.00 8\n"
     ]
    }
   ],
   "source": [
    "with open('testfiles/hrdata.csv', 'r') as f:\n",
    "    csv_reader = csv.DictReader(f)\n",
    "    \n",
    "    for row in csv_reader:\n",
    "        print(row['Name'], row['Hire Date'], row['Salary'], row['Sick Days remaining'] )"
   ]
  },
  {
   "cell_type": "markdown",
   "metadata": {},
   "source": [
    "## csv.writer()"
   ]
  },
  {
   "cell_type": "code",
   "execution_count": 15,
   "metadata": {},
   "outputs": [],
   "source": [
    "with open('testfiles/employee_file.csv', 'w') as f:\n",
    "    employee_writer = csv.writer(f, delimiter=',')\n",
    "\n",
    "    employee_writer.writerow(['John Smith', 'Accounting', 'November'])\n",
    "    employee_writer.writerow(['Erica Meyers', 'IT', 'March'])"
   ]
  },
  {
   "cell_type": "code",
   "execution_count": 16,
   "metadata": {},
   "outputs": [
    {
     "name": "stdout",
     "output_type": "stream",
     "text": [
      "['John Smith', 'Accounting', 'November']\n",
      "['Erica Meyers', 'IT', 'March']\n"
     ]
    }
   ],
   "source": [
    "with open('testfiles/employee_file.csv', 'r') as f:\n",
    "    csv_reader = csv.reader(f, delimiter=',')\n",
    "    for row in csv_reader:\n",
    "        print(row)\n"
   ]
  },
  {
   "cell_type": "markdown",
   "metadata": {},
   "source": [
    "## csv.DictWriter()"
   ]
  },
  {
   "cell_type": "code",
   "execution_count": 19,
   "metadata": {},
   "outputs": [],
   "source": [
    "with open('testfiles/employee_file2.csv', 'w') as f:\n",
    "    fieldnames = ['emp_name', 'dept', 'birth_month']\n",
    "    writer = csv.DictWriter(f, fieldnames=fieldnames)\n",
    "\n",
    "    writer.writeheader() # the fieldnames\n",
    "    writer.writerow({'emp_name': 'John Smith', 'dept': 'Accounting', 'birth_month': 'November'})\n",
    "    writer.writerow({'emp_name': 'Erica Meyers', 'dept': 'IT', 'birth_month': 'March'})"
   ]
  },
  {
   "cell_type": "code",
   "execution_count": 20,
   "metadata": {},
   "outputs": [
    {
     "name": "stdout",
     "output_type": "stream",
     "text": [
      "['emp_name', 'dept', 'birth_month']\n",
      "['John Smith', 'Accounting', 'November']\n",
      "['Erica Meyers', 'IT', 'March']\n"
     ]
    }
   ],
   "source": [
    "with open('testfiles/employee_file2.csv', 'r') as f:\n",
    "    csv_reader = csv.reader(f, delimiter=',')\n",
    "    for row in csv_reader:\n",
    "        print(row)"
   ]
  },
  {
   "cell_type": "markdown",
   "metadata": {},
   "source": [
    "## Pandas"
   ]
  },
  {
   "cell_type": "code",
   "execution_count": 1,
   "metadata": {},
   "outputs": [],
   "source": [
    "import pandas"
   ]
  },
  {
   "cell_type": "markdown",
   "metadata": {},
   "source": [
    "### read_csv()"
   ]
  },
  {
   "cell_type": "code",
   "execution_count": 8,
   "metadata": {},
   "outputs": [
    {
     "name": "stdout",
     "output_type": "stream",
     "text": [
      "             Name Hire Date   Salary  Sick Days remaining\n",
      "0  Graham Chapman  03/15/14  50000.0                   10\n",
      "1     John Cleese  06/01/15  65000.0                    8\n",
      "2       Eric Idle  05/12/14  45000.0                   10\n",
      "3     Terry Jones  11/01/13  70000.0                    3\n",
      "4   Terry Gilliam  08/12/14  48000.0                    7\n",
      "5   Michael Palin  05/23/13  66000.0                    8\n"
     ]
    }
   ],
   "source": [
    "import pandas\n",
    "df = pandas.read_csv('testfiles/hrdata.csv')\n",
    "print(df)"
   ]
  },
  {
   "cell_type": "markdown",
   "metadata": {},
   "source": [
    "## 10 minutes exercise"
   ]
  },
  {
   "cell_type": "code",
   "execution_count": null,
   "metadata": {},
   "outputs": [],
   "source": []
  }
 ],
 "metadata": {
  "kernelspec": {
   "display_name": "Python 3",
   "language": "python",
   "name": "python3"
  },
  "language_info": {
   "codemirror_mode": {
    "name": "ipython",
    "version": 3
   },
   "file_extension": ".py",
   "mimetype": "text/x-python",
   "name": "python",
   "nbconvert_exporter": "python",
   "pygments_lexer": "ipython3",
   "version": "3.7.4"
  },
  "toc": {
   "base_numbering": 1,
   "nav_menu": {},
   "number_sections": true,
   "sideBar": true,
   "skip_h1_title": true,
   "title_cell": "Reading and writing csv files",
   "title_sidebar": "Contents",
   "toc_cell": true,
   "toc_position": {},
   "toc_section_display": true,
   "toc_window_display": true
  }
 },
 "nbformat": 4,
 "nbformat_minor": 2
}
